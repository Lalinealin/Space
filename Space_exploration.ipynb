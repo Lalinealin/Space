{
 "cells": [
  {
   "cell_type": "code",
   "execution_count": 13,
   "id": "f3554af0",
   "metadata": {},
   "outputs": [],
   "source": [
    "import pandas as pd\n",
    "import zipfile\n",
    "import kaggle\n"
   ]
  },
  {
   "cell_type": "code",
   "execution_count": 12,
   "id": "d7f9fc75",
   "metadata": {},
   "outputs": [
    {
     "name": "stdout",
     "output_type": "stream",
     "text": [
      "Dataset URL: https://www.kaggle.com/datasets/atharvasoundankar/global-space-exploration-dataset-2000-2025\n",
      "License(s): CC0-1.0\n"
     ]
    }
   ],
   "source": [
    "!kaggle datasets download -d atharvasoundankar/global-space-exploration-dataset-2000-2025"
   ]
  },
  {
   "cell_type": "code",
   "execution_count": 14,
   "id": "2568286b",
   "metadata": {},
   "outputs": [],
   "source": [
    "zipfile_name = 'global-space-exploration-dataset-2000-2025.zip'\n",
    "with zipfile.ZipFile(zipfile_name, 'r') as file:\n",
    "    file.extractall()"
   ]
  },
  {
   "cell_type": "code",
   "execution_count": 17,
   "id": "b01e7766",
   "metadata": {},
   "outputs": [],
   "source": [
    "space = pd.read_csv('Global_Space_Exploration_Dataset.csv')"
   ]
  },
  {
   "cell_type": "code",
   "execution_count": 19,
   "id": "b92890e3",
   "metadata": {},
   "outputs": [
    {
     "name": "stdout",
     "output_type": "stream",
     "text": [
      "Index(['Country', 'Year', 'Mission Name', 'Mission Type', 'Launch Site',\n",
      "       'Satellite Type', 'Budget (in Billion $)', 'Success Rate (%)',\n",
      "       'Technology Used', 'Environmental Impact', 'Collaborating Countries',\n",
      "       'Duration (in Days)'],\n",
      "      dtype='object')\n"
     ]
    }
   ],
   "source": [
    "print(space.columns)"
   ]
  },
  {
   "cell_type": "code",
   "execution_count": 22,
   "id": "8dc04188",
   "metadata": {},
   "outputs": [
    {
     "name": "stdout",
     "output_type": "stream",
     "text": [
      "Index(['Country', 'Year', 'Mission_Name', 'Mission_Type', 'Launch_Site',\n",
      "       'Satellite_Type', 'Budget_in_Billion', 'Success_Rate',\n",
      "       'Technology_Used', 'Environmental_Impact', 'Collaborating_Countries',\n",
      "       'Duration_in_Days'],\n",
      "      dtype='object')\n"
     ]
    }
   ],
   "source": [
    "new_cols_dict ={\n",
    "    'Mission Name': 'Mission_Name',\n",
    "    'Mission Type': 'Mission_Type',\n",
    "    'Launch Site': 'Launch_Site',\n",
    "    'Satellite Type': 'Satellite_Type',\n",
    "    'Budget (in Billion $)': 'Budget_in_Billion',\n",
    "    'Success Rate (%)': 'Success_Rate',\n",
    "    'Technology Used': 'Technology_Used',\n",
    "    'Environmental Impact': 'Environmental_Impact',\n",
    "    'Collaborating Countries': 'Collaborating_Countries',\n",
    "    'Duration (in Days)': 'Duration_in_Days',\n",
    "    }\n",
    "\n",
    "space.rename(columns=new_cols_dict, inplace=True)\n",
    "print(space.columns)"
   ]
  }
 ],
 "metadata": {
  "kernelspec": {
   "display_name": "Python 3",
   "language": "python",
   "name": "python3"
  },
  "language_info": {
   "codemirror_mode": {
    "name": "ipython",
    "version": 3
   },
   "file_extension": ".py",
   "mimetype": "text/x-python",
   "name": "python",
   "nbconvert_exporter": "python",
   "pygments_lexer": "ipython3",
   "version": "3.13.3"
  }
 },
 "nbformat": 4,
 "nbformat_minor": 5
}
