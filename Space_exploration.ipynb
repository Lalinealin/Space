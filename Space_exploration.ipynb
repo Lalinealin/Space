{
 "cells": [
  {
   "cell_type": "code",
   "execution_count": null,
   "id": "f3554af0",
   "metadata": {
    "vscode": {
     "languageId": "plaintext"
    }
   },
   "outputs": [],
   "source": [
    "import pandas as pd\n",
    "import zipfile\n",
    "import kaggle"
   ]
  }
 ],
 "metadata": {
  "language_info": {
   "name": "python"
  }
 },
 "nbformat": 4,
 "nbformat_minor": 5
}
