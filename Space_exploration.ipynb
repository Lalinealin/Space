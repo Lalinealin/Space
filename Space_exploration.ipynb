{
 "cells": [
  {
   "cell_type": "code",
   "execution_count": 4,
   "id": "f3554af0",
   "metadata": {},
   "outputs": [],
   "source": [
    "import pandas as pd\n",
    "import zipfile\n",
    "import kaggle\n"
   ]
  },
  {
   "cell_type": "code",
   "execution_count": 5,
   "id": "d7f9fc75",
   "metadata": {},
   "outputs": [
    {
     "name": "stdout",
     "output_type": "stream",
     "text": [
      "Dataset URL: https://www.kaggle.com/datasets/atharvasoundankar/global-space-exploration-dataset-2000-2025\n",
      "License(s): CC0-1.0\n",
      "global-space-exploration-dataset-2000-2025.zip: Skipping, found more recently modified local copy (use --force to force download)\n"
     ]
    }
   ],
   "source": [
    "!kaggle datasets download -d atharvasoundankar/global-space-exploration-dataset-2000-2025"
   ]
  },
  {
   "cell_type": "code",
   "execution_count": 6,
   "id": "2568286b",
   "metadata": {},
   "outputs": [],
   "source": [
    "zipfile_name = 'global-space-exploration-dataset-2000-2025.zip'\n",
    "with zipfile.ZipFile(zipfile_name, 'r') as file:\n",
    "    file.extractall()"
   ]
  },
  {
   "cell_type": "code",
   "execution_count": 7,
   "id": "b01e7766",
   "metadata": {},
   "outputs": [],
   "source": [
    "space = pd.read_csv('Global_Space_Exploration_Dataset.csv')"
   ]
  },
  {
   "cell_type": "code",
   "execution_count": 19,
   "id": "b92890e3",
   "metadata": {},
   "outputs": [
    {
     "name": "stdout",
     "output_type": "stream",
     "text": [
      "Index(['Country', 'Year', 'Mission Name', 'Mission Type', 'Launch Site',\n",
      "       'Satellite Type', 'Budget (in Billion $)', 'Success Rate (%)',\n",
      "       'Technology Used', 'Environmental Impact', 'Collaborating Countries',\n",
      "       'Duration (in Days)'],\n",
      "      dtype='object')\n"
     ]
    }
   ],
   "source": [
    "print(space.columns)"
   ]
  },
  {
   "cell_type": "code",
   "execution_count": 8,
   "id": "8dc04188",
   "metadata": {},
   "outputs": [
    {
     "name": "stdout",
     "output_type": "stream",
     "text": [
      "Index(['Country', 'Year', 'Mission_Name', 'Mission_Type', 'Launch_Site',\n",
      "       'Satellite_Type', 'Budget_in_Billion', 'Success_Rate',\n",
      "       'Technology_Used', 'Environmental_Impact', 'Collaborating_Countries',\n",
      "       'Duration_in_Days'],\n",
      "      dtype='object')\n"
     ]
    }
   ],
   "source": [
    "new_cols_dict ={\n",
    "    'Mission Name': 'Mission_Name',\n",
    "    'Mission Type': 'Mission_Type',\n",
    "    'Launch Site': 'Launch_Site',\n",
    "    'Satellite Type': 'Satellite_Type',\n",
    "    'Budget (in Billion $)': 'Budget_in_Billion',\n",
    "    'Success Rate (%)': 'Success_Rate',\n",
    "    'Technology Used': 'Technology_Used',\n",
    "    'Environmental Impact': 'Environmental_Impact',\n",
    "    'Collaborating Countries': 'Collaborating_Countries',\n",
    "    'Duration (in Days)': 'Duration_in_Days',\n",
    "    }\n",
    "\n",
    "space.rename(columns=new_cols_dict, inplace=True)\n",
    "print(space.columns)"
   ]
  },
  {
   "cell_type": "code",
   "execution_count": 9,
   "id": "f767f8dc",
   "metadata": {},
   "outputs": [
    {
     "data": {
      "text/html": [
       "<div>\n",
       "<style scoped>\n",
       "    .dataframe tbody tr th:only-of-type {\n",
       "        vertical-align: middle;\n",
       "    }\n",
       "\n",
       "    .dataframe tbody tr th {\n",
       "        vertical-align: top;\n",
       "    }\n",
       "\n",
       "    .dataframe thead th {\n",
       "        text-align: right;\n",
       "    }\n",
       "</style>\n",
       "<table border=\"1\" class=\"dataframe\">\n",
       "  <thead>\n",
       "    <tr style=\"text-align: right;\">\n",
       "      <th></th>\n",
       "      <th>Country</th>\n",
       "      <th>Year</th>\n",
       "      <th>Mission_Name</th>\n",
       "      <th>Mission_Type</th>\n",
       "      <th>Launch_Site</th>\n",
       "      <th>Satellite_Type</th>\n",
       "      <th>Budget_in_Billion</th>\n",
       "      <th>Success_Rate</th>\n",
       "      <th>Technology_Used</th>\n",
       "      <th>Environmental_Impact</th>\n",
       "      <th>Collaborating_Countries</th>\n",
       "      <th>Duration_in_Days</th>\n",
       "    </tr>\n",
       "  </thead>\n",
       "  <tbody>\n",
       "    <tr>\n",
       "      <th>0</th>\n",
       "      <td>China</td>\n",
       "      <td>2008</td>\n",
       "      <td>Sharable tertiary superstructure</td>\n",
       "      <td>Manned</td>\n",
       "      <td>Sheilatown</td>\n",
       "      <td>Communication</td>\n",
       "      <td>16.20</td>\n",
       "      <td>90</td>\n",
       "      <td>Nuclear Propulsion</td>\n",
       "      <td>Medium</td>\n",
       "      <td>France, UK, Russia</td>\n",
       "      <td>112</td>\n",
       "    </tr>\n",
       "    <tr>\n",
       "      <th>1</th>\n",
       "      <td>Japan</td>\n",
       "      <td>2018</td>\n",
       "      <td>Re-engineered composite flexibility</td>\n",
       "      <td>Manned</td>\n",
       "      <td>New Ericfurt</td>\n",
       "      <td>Communication</td>\n",
       "      <td>29.04</td>\n",
       "      <td>99</td>\n",
       "      <td>Solar Propulsion</td>\n",
       "      <td>High</td>\n",
       "      <td>Germany, Israel</td>\n",
       "      <td>236</td>\n",
       "    </tr>\n",
       "    <tr>\n",
       "      <th>2</th>\n",
       "      <td>Israel</td>\n",
       "      <td>2013</td>\n",
       "      <td>Reactive disintermediate projection</td>\n",
       "      <td>Manned</td>\n",
       "      <td>Port Kaitlynstad</td>\n",
       "      <td>Communication</td>\n",
       "      <td>28.73</td>\n",
       "      <td>54</td>\n",
       "      <td>AI Navigation</td>\n",
       "      <td>Medium</td>\n",
       "      <td>China, Israel, USA</td>\n",
       "      <td>238</td>\n",
       "    </tr>\n",
       "    <tr>\n",
       "      <th>3</th>\n",
       "      <td>UAE</td>\n",
       "      <td>2010</td>\n",
       "      <td>Grass-roots 6thgeneration implementation</td>\n",
       "      <td>Unmanned</td>\n",
       "      <td>Mariastad</td>\n",
       "      <td>Spy</td>\n",
       "      <td>37.27</td>\n",
       "      <td>58</td>\n",
       "      <td>Traditional Rocket</td>\n",
       "      <td>Low</td>\n",
       "      <td>USA</td>\n",
       "      <td>186</td>\n",
       "    </tr>\n",
       "    <tr>\n",
       "      <th>4</th>\n",
       "      <td>India</td>\n",
       "      <td>2006</td>\n",
       "      <td>Balanced discrete orchestration</td>\n",
       "      <td>Manned</td>\n",
       "      <td>North Jasonborough</td>\n",
       "      <td>Weather</td>\n",
       "      <td>18.95</td>\n",
       "      <td>91</td>\n",
       "      <td>Solar Propulsion</td>\n",
       "      <td>Medium</td>\n",
       "      <td>Israel, China, India</td>\n",
       "      <td>277</td>\n",
       "    </tr>\n",
       "  </tbody>\n",
       "</table>\n",
       "</div>"
      ],
      "text/plain": [
       "  Country  Year                              Mission_Name Mission_Type  \\\n",
       "0   China  2008          Sharable tertiary superstructure       Manned   \n",
       "1   Japan  2018       Re-engineered composite flexibility       Manned   \n",
       "2  Israel  2013       Reactive disintermediate projection       Manned   \n",
       "3     UAE  2010  Grass-roots 6thgeneration implementation     Unmanned   \n",
       "4   India  2006           Balanced discrete orchestration       Manned   \n",
       "\n",
       "          Launch_Site Satellite_Type  Budget_in_Billion  Success_Rate  \\\n",
       "0          Sheilatown  Communication              16.20            90   \n",
       "1        New Ericfurt  Communication              29.04            99   \n",
       "2    Port Kaitlynstad  Communication              28.73            54   \n",
       "3           Mariastad            Spy              37.27            58   \n",
       "4  North Jasonborough        Weather              18.95            91   \n",
       "\n",
       "      Technology_Used Environmental_Impact Collaborating_Countries  \\\n",
       "0  Nuclear Propulsion               Medium      France, UK, Russia   \n",
       "1    Solar Propulsion                 High         Germany, Israel   \n",
       "2       AI Navigation               Medium      China, Israel, USA   \n",
       "3  Traditional Rocket                  Low                     USA   \n",
       "4    Solar Propulsion               Medium    Israel, China, India   \n",
       "\n",
       "   Duration_in_Days  \n",
       "0               112  \n",
       "1               236  \n",
       "2               238  \n",
       "3               186  \n",
       "4               277  "
      ]
     },
     "execution_count": 9,
     "metadata": {},
     "output_type": "execute_result"
    }
   ],
   "source": [
    "space.head()"
   ]
  },
  {
   "cell_type": "code",
   "execution_count": 11,
   "id": "754998b9",
   "metadata": {},
   "outputs": [
    {
     "data": {
      "text/plain": [
       "Satellite_Type\n",
       "Research         649\n",
       "Weather          617\n",
       "Communication    588\n",
       "Spy              585\n",
       "Navigation       561\n",
       "Name: count, dtype: int64"
      ]
     },
     "execution_count": 11,
     "metadata": {},
     "output_type": "execute_result"
    }
   ],
   "source": [
    "space.Satellite_Type.value_counts()"
   ]
  },
  {
   "cell_type": "code",
   "execution_count": 14,
   "id": "82a7e66d",
   "metadata": {},
   "outputs": [],
   "source": [
    "space.to_excel('space_exploration.xlsx', index=False, sheet_name='Data')"
   ]
  }
 ],
 "metadata": {
  "kernelspec": {
   "display_name": "Python 3",
   "language": "python",
   "name": "python3"
  },
  "language_info": {
   "codemirror_mode": {
    "name": "ipython",
    "version": 3
   },
   "file_extension": ".py",
   "mimetype": "text/x-python",
   "name": "python",
   "nbconvert_exporter": "python",
   "pygments_lexer": "ipython3",
   "version": "3.13.3"
  }
 },
 "nbformat": 4,
 "nbformat_minor": 5
}
