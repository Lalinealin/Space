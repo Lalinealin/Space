{
 "cells": [
  {
   "cell_type": "code",
   "execution_count": 1,
   "id": "d8cd53fa",
   "metadata": {},
   "outputs": [],
   "source": [
    "import pandas as pd\n",
    "import zipfile\n",
    "import kaggle"
   ]
  },
  {
   "cell_type": "code",
   "execution_count": 4,
   "id": "5549b168",
   "metadata": {},
   "outputs": [
    {
     "name": "stdout",
     "output_type": "stream",
     "text": [
      "Dataset URL: https://www.kaggle.com/datasets/jessemostipak/hotel-booking-demand\n",
      "License(s): Attribution 4.0 International (CC BY 4.0)\n"
     ]
    }
   ],
   "source": [
    "!kaggle datasets download -d jessemostipak/hotel-booking-demand\n",
    "    "
   ]
  },
  {
   "cell_type": "code",
   "execution_count": 6,
   "id": "42b9e475",
   "metadata": {},
   "outputs": [],
   "source": [
    "zipfile_name = 'hotel-booking-demand.zip'\n",
    "with zipfile.ZipFile(zipfile_name, 'r') as zip_ref:\n",
    "    zip_ref.extractall('.')"
   ]
  },
  {
   "cell_type": "code",
   "execution_count": 7,
   "id": "52cbee27",
   "metadata": {},
   "outputs": [],
   "source": [
    "hotel = pd.read_csv('hotel_bookings.csv')"
   ]
  },
  {
   "cell_type": "code",
   "execution_count": 9,
   "id": "8ca9f53e",
   "metadata": {},
   "outputs": [
    {
     "name": "stdout",
     "output_type": "stream",
     "text": [
      "Index(['hotel', 'is_canceled', 'lead_time', 'arrival_date_year',\n",
      "       'arrival_date_month', 'arrival_date_week_number',\n",
      "       'arrival_date_day_of_month', 'stays_in_weekend_nights',\n",
      "       'stays_in_week_nights', 'adults', 'children', 'babies', 'meal',\n",
      "       'country', 'market_segment', 'distribution_channel',\n",
      "       'is_repeated_guest', 'previous_cancellations',\n",
      "       'previous_bookings_not_canceled', 'reserved_room_type',\n",
      "       'assigned_room_type', 'booking_changes', 'deposit_type', 'agent',\n",
      "       'company', 'days_in_waiting_list', 'customer_type', 'adr',\n",
      "       'required_car_parking_spaces', 'total_of_special_requests',\n",
      "       'reservation_status', 'reservation_status_date'],\n",
      "      dtype='object')\n"
     ]
    }
   ],
   "source": [
    "print(hotel.columns)"
   ]
  },
  {
   "cell_type": "code",
   "execution_count": 12,
   "id": "785fce64",
   "metadata": {},
   "outputs": [
    {
     "data": {
      "text/plain": [
       "meal\n",
       "BB           92310\n",
       "HB           14463\n",
       "SC           10650\n",
       "Undefined     1169\n",
       "FB             798\n",
       "Name: count, dtype: int64"
      ]
     },
     "execution_count": 12,
     "metadata": {},
     "output_type": "execute_result"
    }
   ],
   "source": [
    "hotel.meal.value_counts()"
   ]
  },
  {
   "cell_type": "code",
   "execution_count": 14,
   "id": "7c52ca46",
   "metadata": {},
   "outputs": [],
   "source": [
    "is_canceled_dict = {\n",
    "    0: 'Not Canceled',\n",
    "    1: 'Canceled'\n",
    "}\n",
    "\n",
    "meal_dict = {\n",
    "    'BB': 'Bed & Breakfast',\n",
    "    'FB': 'Full Board',\n",
    "    'HB': 'Half Board',\n",
    "    'SC': 'Self Catering',\n",
    "    'Undefined': 'No meal'\n",
    "}\n",
    "\n",
    "repeated_guest_dict = {\n",
    "    0: 'No',\n",
    "    1: 'Yes'\n",
    "}\n",
    "\n",
    "hotel.is_canceled = hotel.is_canceled.astype('str')\n",
    "hotel.is_canceled = hotel.is_canceled.map(is_canceled_dict)\n",
    "\n",
    "hotel.meal = hotel.meal.astype('str')\n",
    "hotel.meal = hotel.meal.map(meal_dict)\n",
    "\n",
    "hotel.is_repeated_guest = hotel.is_repeated_guest.astype('str')\n",
    "hotel.is_repeated_guest = hotel.is_repeated_guest.map(repeated_guest_dict)\n"
   ]
  },
  {
   "cell_type": "code",
   "execution_count": 10,
   "id": "eba06053",
   "metadata": {},
   "outputs": [],
   "source": [
    "hotel.to_excel('hotel_bookings.xlsx', index=False)"
   ]
  }
 ],
 "metadata": {
  "kernelspec": {
   "display_name": "Python 3",
   "language": "python",
   "name": "python3"
  },
  "language_info": {
   "codemirror_mode": {
    "name": "ipython",
    "version": 3
   },
   "file_extension": ".py",
   "mimetype": "text/x-python",
   "name": "python",
   "nbconvert_exporter": "python",
   "pygments_lexer": "ipython3",
   "version": "3.13.3"
  }
 },
 "nbformat": 4,
 "nbformat_minor": 5
}
